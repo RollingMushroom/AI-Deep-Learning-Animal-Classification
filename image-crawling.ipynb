{
 "cells": [
  {
   "cell_type": "markdown",
   "id": "b161f9f6-256d-4f6d-abb3-b63c7c46603c",
   "metadata": {},
   "source": [
    "Image Crawling"
   ]
  },
  {
   "cell_type": "code",
   "execution_count": null,
   "id": "1b47de92-9f15-4ef4-83a8-17384d6af3d8",
   "metadata": {},
   "outputs": [],
   "source": [
    "pip install pillow\n"
   ]
  },
  {
   "cell_type": "code",
   "execution_count": 2,
   "id": "0065d364-cdf2-4263-b3be-7f95241244fe",
   "metadata": {},
   "outputs": [
    {
     "name": "stdout",
     "output_type": "stream",
     "text": [
      "Launching Chrome...\n",
      "Opening Unsplash search page...\n",
      "Scrolling to load images...\n",
      "Scrolled 1 times - found 10 images.\n",
      "✅ Found 10 images. Starting download...\n",
      "Skipped: https://images.unsplash.com/profile-1548288866221-bcd300c7fe19?fm=jpg&q=60&w=3000&ixlib=rb-4.0.3&crop=faces&fit=crop&h=32 (Size: 3000x32) - too small\n",
      "Skipped: https://images.unsplash.com/profile-1601652880610-dadfc0b29b37image?fm=jpg&q=60&w=3000&ixlib=rb-4.0.3&crop=faces&fit=crop&h=32 (Size: 3000x32) - too small\n",
      "Downloaded: Indochinese_tiger_2.jpg (Size: 3000x3750)\n",
      "Downloaded: Indochinese_tiger_3.jpg (Size: 3000x2412)\n",
      "Downloaded: Indochinese_tiger_4.jpg (Size: 3000x3750)\n",
      "Skipped: https://images.unsplash.com/profile-1716751026996-8998a58d153aimage?fm=jpg&q=60&w=3000&ixlib=rb-4.1.0&crop=faces&fit=crop&h=32 (Size: 3000x32) - too small\n",
      "Skipped: https://images.unsplash.com/profile-1723927990565-70176ce68c3b?fm=jpg&q=60&w=3000&ixlib=rb-4.1.0&crop=faces&fit=crop&h=32 (Size: 3000x32) - too small\n",
      "Skipped: https://images.unsplash.com/profile-1747742036379-eb80d4e060d3image?fm=jpg&q=60&w=3000&ixlib=rb-4.1.0&crop=faces&fit=crop&h=32 (Size: 3000x32) - too small\n",
      "Downloaded: Indochinese_tiger_8.jpg (Size: 3000x4101)\n",
      "Skipped: https://images.unsplash.com/profile-1605771509601-a85bd12a510cimage?fm=jpg&q=60&w=3000&ixlib=rb-4.1.0&crop=faces&fit=crop&h=32 (Size: 3000x32) - too small\n",
      "\n",
      "✅ All done. Check your folder at:\n",
      "C:\\Users\\aaron\\Downloads\\Indochinese-tiger\n"
     ]
    }
   ],
   "source": [
    "import os\n",
    "import time\n",
    "import requests\n",
    "from io import BytesIO\n",
    "from PIL import Image\n",
    "from selenium import webdriver\n",
    "from selenium.webdriver.chrome.service import Service\n",
    "from selenium.webdriver.common.by import By\n",
    "from webdriver_manager.chrome import ChromeDriverManager\n",
    "\n",
    "# Settings\n",
    "search_url = \"https://unsplash.com/s/photos/Indochinese-tiger\"  # Unsplash Link\n",
    "download_folder = r\"C:\\Users\\aaron\\Downloads\\Indochinese-tiger\"  # Your download Path\n",
    "os.makedirs(download_folder, exist_ok=True)\n",
    "file_name = \"Indochinese_tiger\"  # Set downloaded file name prefix\n",
    "max_images = 10\n",
    "scroll_pause_time = 2\n",
    "\n",
    "# Setup Chrome (visible for debugging)\n",
    "print(\"Launching Chrome...\")\n",
    "options = webdriver.ChromeOptions()\n",
    "# options.add_argument(\"--headless\")  # <-- COMMENTED FOR DEBUGGING\n",
    "options.add_argument(\"--log-level=3\")\n",
    "driver = webdriver.Chrome(service=Service(ChromeDriverManager().install()), options=options)\n",
    "\n",
    "print(\"Opening Unsplash search page...\")\n",
    "driver.get(search_url)\n",
    "\n",
    "# Scroll and load images\n",
    "print(\"Scrolling to load images...\")\n",
    "image_urls = set()\n",
    "scroll_count = 0\n",
    "\n",
    "while len(image_urls) < max_images and scroll_count < 20:\n",
    "    driver.execute_script(\"window.scrollTo(0, document.body.scrollHeight);\")\n",
    "    time.sleep(scroll_pause_time)\n",
    "    images = driver.find_elements(By.TAG_NAME, \"img\")\n",
    "    \n",
    "    for img in images:\n",
    "        src = img.get_attribute(\"src\")\n",
    "        if src and \"images.unsplash.com\" in src:\n",
    "            image_urls.add(src)\n",
    "        if len(image_urls) >= max_images:\n",
    "            break\n",
    "\n",
    "    scroll_count += 1\n",
    "    print(f\"Scrolled {scroll_count} times - found {len(image_urls)} images.\")\n",
    "\n",
    "# Download images only if dimension check passes\n",
    "print(f\"✅ Found {len(image_urls)} images. Starting download...\")\n",
    "\n",
    "for idx, url in enumerate(list(image_urls)[:max_images]):\n",
    "    try:\n",
    "        response = requests.get(url)\n",
    "        img_data = response.content\n",
    "        \n",
    "        # Open image with PIL to check dimensions\n",
    "        img = Image.open(BytesIO(img_data))\n",
    "        width, height = img.size\n",
    "        \n",
    "        if width >= 3000 and height >= 100:\n",
    "            file_path = os.path.join(download_folder, f\"{file_name}_{idx}.jpg\")\n",
    "            with open(file_path, \"wb\") as f:\n",
    "                f.write(img_data)\n",
    "            print(f\"Downloaded: {file_name}_{idx}.jpg (Size: {width}x{height})\")\n",
    "        else:\n",
    "            print(f\"Skipped: {url} (Size: {width}x{height}) - too small\")\n",
    "\n",
    "    except Exception as e:\n",
    "        print(f\"Failed to download image {idx}: {e}\")\n",
    "\n",
    "driver.quit()\n",
    "print(\"\\n✅ All done. Check your folder at:\")\n",
    "print(download_folder)\n"
   ]
  },
  {
   "cell_type": "code",
   "execution_count": null,
   "id": "1f2fa57e-e4e0-4ab4-bf0c-a379a848bdc4",
   "metadata": {},
   "outputs": [],
   "source": []
  }
 ],
 "metadata": {
  "kernelspec": {
   "display_name": "Python (gpu)",
   "language": "python",
   "name": "gpu"
  },
  "language_info": {
   "codemirror_mode": {
    "name": "ipython",
    "version": 3
   },
   "file_extension": ".py",
   "mimetype": "text/x-python",
   "name": "python",
   "nbconvert_exporter": "python",
   "pygments_lexer": "ipython3",
   "version": "3.10.16"
  }
 },
 "nbformat": 4,
 "nbformat_minor": 5
}
