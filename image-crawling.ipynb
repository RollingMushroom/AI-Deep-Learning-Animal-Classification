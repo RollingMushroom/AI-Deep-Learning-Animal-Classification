{
 "cells": [
  {
   "cell_type": "markdown",
   "id": "b161f9f6-256d-4f6d-abb3-b63c7c46603c",
   "metadata": {},
   "source": [
    "Image Crawling"
   ]
  },
  {
   "cell_type": "code",
   "execution_count": null,
   "id": "d1a2e9f6-9b59-4c83-a8df-e2de33522d41",
   "metadata": {},
   "outputs": [],
   "source": [
    "import os\n",
    "import time\n",
    "import requests\n",
    "from selenium import webdriver\n",
    "from selenium.webdriver.chrome.service import Service\n",
    "from selenium.webdriver.common.by import By\n",
    "from webdriver_manager.chrome import ChromeDriverManager\n",
    "\n",
    "# Settings\n",
    "search_url = \"https://unsplash.com/s/photos/Indochinese-tiger\" # Unsplash Link \n",
    "download_folder = r\"\" # Your downnload Path\n",
    "os.makedirs(download_folder, exist_ok=True)\n",
    "file_name = \"\" # Set downloaded file name eg\n",
    "max_images = 700\n",
    "scroll_pause_time = 2\n",
    "\n",
    "# Setup Chrome (visible for debugging)\n",
    "print(\"Launching Chrome...\")\n",
    "options = webdriver.ChromeOptions()\n",
    "# options.add_argument(\"--headless\")  # <-- COMMENTED FOR DEBUGGING\n",
    "options.add_argument(\"--log-level=3\")\n",
    "driver = webdriver.Chrome(service=Service(ChromeDriverManager().install()), options=options)\n",
    "\n",
    "print(\"Opening Unsplash search page...\")\n",
    "driver.get(search_url)\n",
    "\n",
    "# Scroll and load images\n",
    "print(\"Scrolling to load images...\")\n",
    "image_urls = set()\n",
    "scroll_count = 0\n",
    "\n",
    "while len(image_urls) < max_images and scroll_count < 20:\n",
    "    driver.execute_script(\"window.scrollTo(0, document.body.scrollHeight);\")\n",
    "    time.sleep(scroll_pause_time)\n",
    "    images = driver.find_elements(By.TAG_NAME, \"img\")\n",
    "    \n",
    "    for img in images:\n",
    "        src = img.get_attribute(\"src\")\n",
    "        if src and \"images.unsplash.com\" in src:\n",
    "            image_urls.add(src)\n",
    "        if len(image_urls) >= max_images:\n",
    "            break\n",
    "\n",
    "    scroll_count += 1\n",
    "    print(f\"Scrolled {scroll_count} times - found {len(image_urls)} images.\")\n",
    "\n",
    "# Download images\n",
    "print(f\"✅ Found {len(image_urls)} images. Starting download...\")\n",
    "for idx, url in enumerate(list(image_urls)[:max_images]):\n",
    "    try:\n",
    "        img_data = requests.get(url).content\n",
    "        file_path = os.path.join(download_folder, f\"{file_name}_{idx}.jpg\")\n",
    "        with open(file_path, \"wb\") as f:\n",
    "            f.write(img_data)\n",
    "        print(f\"Downloaded: {file_name}_{idx}.jpg\")\n",
    "    except Exception as e:\n",
    "        print(f\"Failed to download image {idx}: {e}\")\n",
    "\n",
    "driver.quit()\n",
    "print(\"\\n✅ All done. Check your folder at:\")\n",
    "print(download_folder)\n"
   ]
  }
 ],
 "metadata": {
  "kernelspec": {
   "display_name": "Python (gpu)",
   "language": "python",
   "name": "gpu"
  },
  "language_info": {
   "codemirror_mode": {
    "name": "ipython",
    "version": 3
   },
   "file_extension": ".py",
   "mimetype": "text/x-python",
   "name": "python",
   "nbconvert_exporter": "python",
   "pygments_lexer": "ipython3",
   "version": "3.10.16"
  }
 },
 "nbformat": 4,
 "nbformat_minor": 5
}
